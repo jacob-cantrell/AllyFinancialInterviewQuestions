{
 "cells": [
  {
   "cell_type": "markdown",
   "id": "bbba85e6",
   "metadata": {},
   "source": [
    "Write a Python function to calculate the factorial of a number"
   ]
  },
  {
   "cell_type": "code",
   "execution_count": 3,
   "id": "f2ca915f",
   "metadata": {},
   "outputs": [],
   "source": [
    "def factorial(num):\n",
    "    final = 1\n",
    "    for x in range(1, num+1):\n",
    "        final *= x\n",
    "    \n",
    "    return final"
   ]
  },
  {
   "cell_type": "code",
   "execution_count": 4,
   "id": "300ce5bb",
   "metadata": {},
   "outputs": [
    {
     "data": {
      "text/plain": [
       "2"
      ]
     },
     "execution_count": 4,
     "metadata": {},
     "output_type": "execute_result"
    }
   ],
   "source": [
    "factorial(2)"
   ]
  },
  {
   "cell_type": "code",
   "execution_count": 5,
   "id": "dbfbff73",
   "metadata": {},
   "outputs": [
    {
     "data": {
      "text/plain": [
       "24"
      ]
     },
     "execution_count": 5,
     "metadata": {},
     "output_type": "execute_result"
    }
   ],
   "source": [
    "factorial(4)"
   ]
  },
  {
   "cell_type": "markdown",
   "id": "beed6160",
   "metadata": {},
   "source": [
    "Write a Python function to check if a number is prime"
   ]
  },
  {
   "cell_type": "code",
   "execution_count": 1,
   "id": "54b3ea3e",
   "metadata": {},
   "outputs": [],
   "source": [
    "def isPrime(num):\n",
    "    if num > 1:\n",
    "        for x in range(2, num):\n",
    "            if num % x == 0:\n",
    "                return False\n",
    "        return True\n",
    "    else:\n",
    "        return False"
   ]
  },
  {
   "cell_type": "code",
   "execution_count": 2,
   "id": "a071b061",
   "metadata": {},
   "outputs": [
    {
     "data": {
      "text/plain": [
       "True"
      ]
     },
     "execution_count": 2,
     "metadata": {},
     "output_type": "execute_result"
    }
   ],
   "source": [
    "isPrime(11)"
   ]
  },
  {
   "cell_type": "code",
   "execution_count": 3,
   "id": "e05c2407",
   "metadata": {},
   "outputs": [
    {
     "data": {
      "text/plain": [
       "False"
      ]
     },
     "execution_count": 3,
     "metadata": {},
     "output_type": "execute_result"
    }
   ],
   "source": [
    "isPrime(4)"
   ]
  },
  {
   "cell_type": "markdown",
   "id": "6d0674b3",
   "metadata": {},
   "source": [
    "Write a Python function to check if a string is a palindrome"
   ]
  },
  {
   "cell_type": "code",
   "execution_count": 5,
   "id": "8036b8bf",
   "metadata": {},
   "outputs": [],
   "source": [
    "def isPalindrome(str1):\n",
    "    str1 = str1.replace(\" \", \"\")\n",
    "    if str1 == str1[::-1]:\n",
    "        return True\n",
    "    else:\n",
    "        return False"
   ]
  },
  {
   "cell_type": "code",
   "execution_count": 6,
   "id": "77a0f00b",
   "metadata": {},
   "outputs": [
    {
     "data": {
      "text/plain": [
       "True"
      ]
     },
     "execution_count": 6,
     "metadata": {},
     "output_type": "execute_result"
    }
   ],
   "source": [
    "isPalindrome(\"helleh\")"
   ]
  },
  {
   "cell_type": "code",
   "execution_count": 7,
   "id": "0a20f7f7",
   "metadata": {},
   "outputs": [
    {
     "data": {
      "text/plain": [
       "False"
      ]
     },
     "execution_count": 7,
     "metadata": {},
     "output_type": "execute_result"
    }
   ],
   "source": [
    "isPalindrome(\"ahelleh\")"
   ]
  },
  {
   "cell_type": "markdown",
   "id": "a7b809bc",
   "metadata": {},
   "source": [
    "Write a Python program to check if two strings are anagrams"
   ]
  },
  {
   "cell_type": "code",
   "execution_count": 19,
   "id": "28f000af",
   "metadata": {},
   "outputs": [],
   "source": [
    "def isAnagram(str1, str2):\n",
    "    #Remove whitespaces\n",
    "    str1 = str1.replace(\" \", \"\")\n",
    "    str2 = str2.replace(\" \", \"\")\n",
    "\n",
    "    #Check if anagram\n",
    "    if sorted(list(str1)) == sorted(list(str2)):\n",
    "        return True\n",
    "    else:\n",
    "        return False"
   ]
  },
  {
   "cell_type": "code",
   "execution_count": 20,
   "id": "94f763dd",
   "metadata": {},
   "outputs": [
    {
     "data": {
      "text/plain": [
       "True"
      ]
     },
     "execution_count": 20,
     "metadata": {},
     "output_type": "execute_result"
    }
   ],
   "source": [
    "isAnagram('hello','olehl')"
   ]
  },
  {
   "cell_type": "code",
   "execution_count": 22,
   "id": "b7fa5d16",
   "metadata": {},
   "outputs": [
    {
     "data": {
      "text/plain": [
       "False"
      ]
     },
     "execution_count": 22,
     "metadata": {},
     "output_type": "execute_result"
    }
   ],
   "source": [
    "isAnagram('abcdef','abcdefg')"
   ]
  },
  {
   "cell_type": "markdown",
   "id": "bafd9a66",
   "metadata": {},
   "source": [
    "Write a Python program to reverse a string"
   ]
  },
  {
   "cell_type": "code",
   "execution_count": 8,
   "id": "3a426ae5",
   "metadata": {},
   "outputs": [],
   "source": [
    "result = lambda s: s[::-1]"
   ]
  },
  {
   "cell_type": "markdown",
   "id": "0cb9339b",
   "metadata": {},
   "source": [
    "Write a Python program to sort a list of integers"
   ]
  },
  {
   "cell_type": "code",
   "execution_count": 14,
   "id": "edb39c1e",
   "metadata": {},
   "outputs": [],
   "source": [
    "def sortList(lst):\n",
    "    return sorted(lst)"
   ]
  },
  {
   "cell_type": "markdown",
   "id": "11f78e09",
   "metadata": {},
   "source": [
    "Write a Python program to find the common elements between two lists"
   ]
  },
  {
   "cell_type": "code",
   "execution_count": 13,
   "id": "f71245ee",
   "metadata": {},
   "outputs": [
    {
     "name": "stdout",
     "output_type": "stream",
     "text": [
      "None\n"
     ]
    }
   ],
   "source": [
    "def commonElement(lst1, lst2):\n",
    "    for x in lst1:\n",
    "        for y in lst2:\n",
    "            if x == y:\n",
    "                return x\n",
    "    return None"
   ]
  },
  {
   "cell_type": "markdown",
   "id": "7570b742",
   "metadata": {},
   "source": [
    "Write a Python function to find the maximum and minimum elements in a list"
   ]
  },
  {
   "cell_type": "code",
   "execution_count": 15,
   "id": "4a1ea3c5",
   "metadata": {},
   "outputs": [],
   "source": [
    "def maxAndMin(lst):\n",
    "    return (min(lst), max(lst))"
   ]
  },
  {
   "cell_type": "markdown",
   "id": "aa537ffe",
   "metadata": {},
   "source": [
    "Write a Python program to remove duplicates from a list"
   ]
  },
  {
   "cell_type": "code",
   "execution_count": 16,
   "id": "54773466",
   "metadata": {},
   "outputs": [],
   "source": [
    "def removeDupes(lst):\n",
    "    return list( set(lst) )"
   ]
  },
  {
   "cell_type": "markdown",
   "id": "3aa06b7c",
   "metadata": {},
   "source": [
    "Write a Python program to find the second largest number in a list"
   ]
  },
  {
   "cell_type": "code",
   "execution_count": 23,
   "id": "bb695705",
   "metadata": {},
   "outputs": [],
   "source": [
    "def findSecondMax(lst):\n",
    "    lst = sorted(lst)\n",
    "    maxNum = lst.pop()\n",
    "    \n",
    "    return lst.pop()"
   ]
  },
  {
   "cell_type": "code",
   "execution_count": 24,
   "id": "e2ee0216",
   "metadata": {},
   "outputs": [
    {
     "data": {
      "text/plain": [
       "4"
      ]
     },
     "execution_count": 24,
     "metadata": {},
     "output_type": "execute_result"
    }
   ],
   "source": [
    "findSecondMax([1, 2, 3, 4, 5])"
   ]
  },
  {
   "cell_type": "code",
   "execution_count": 25,
   "id": "628b88ee",
   "metadata": {},
   "outputs": [
    {
     "data": {
      "text/plain": [
       "4"
      ]
     },
     "execution_count": 25,
     "metadata": {},
     "output_type": "execute_result"
    }
   ],
   "source": [
    "findSecondMax([5, 4, 3, 2, 1])"
   ]
  },
  {
   "cell_type": "markdown",
   "id": "13ff4605",
   "metadata": {},
   "source": [
    "Write a Python program to calculate the average of a list of numbers."
   ]
  },
  {
   "cell_type": "code",
   "execution_count": 17,
   "id": "c1cb9a31",
   "metadata": {},
   "outputs": [],
   "source": [
    "def avgNumOfIntList(lst):\n",
    "    x = 0\n",
    "    for num in lst:\n",
    "        x += num\n",
    "        \n",
    "    return x/len(lst)"
   ]
  },
  {
   "cell_type": "markdown",
   "id": "9a784dad",
   "metadata": {},
   "source": [
    "Write a Python function to check if a string is a valid IP address"
   ]
  },
  {
   "cell_type": "code",
   "execution_count": 32,
   "id": "9ac08332",
   "metadata": {},
   "outputs": [],
   "source": [
    "import re\n",
    "\n",
    "def validIP(str1):\n",
    "    return bool(re.search(\"^\\d{1,3}.\\d{1,3}.\\d{1,3}.\\d{1,3}$\", str1))"
   ]
  },
  {
   "cell_type": "code",
   "execution_count": 33,
   "id": "dd5f3471",
   "metadata": {},
   "outputs": [
    {
     "data": {
      "text/plain": [
       "True"
      ]
     },
     "execution_count": 33,
     "metadata": {},
     "output_type": "execute_result"
    }
   ],
   "source": [
    "validIP('192.68.145.0')"
   ]
  },
  {
   "cell_type": "markdown",
   "id": "ffa419e4",
   "metadata": {},
   "source": [
    "Write a Python program to generate all permutations of a list"
   ]
  },
  {
   "cell_type": "code",
   "execution_count": 40,
   "id": "ecba5724",
   "metadata": {},
   "outputs": [],
   "source": [
    "def permutations(lst):\n",
    "    if len(lst) == 0:\n",
    "        return [[]]\n",
    "    else:\n",
    "        result = []\n",
    "        for i in range(len(lst)):\n",
    "            rest = lst[:i] + lst[i+1:]\n",
    "            for permutation in permutations(rest):\n",
    "                result.append([lst[i]] + permutation)\n",
    "        return result"
   ]
  },
  {
   "cell_type": "code",
   "execution_count": 41,
   "id": "40913367",
   "metadata": {},
   "outputs": [
    {
     "data": {
      "text/plain": [
       "[[1, 2, 3], [1, 3, 2], [2, 1, 3], [2, 3, 1], [3, 1, 2], [3, 2, 1]]"
      ]
     },
     "execution_count": 41,
     "metadata": {},
     "output_type": "execute_result"
    }
   ],
   "source": [
    "permutations([1,2,3])"
   ]
  },
  {
   "cell_type": "markdown",
   "id": "66c9f8bd",
   "metadata": {},
   "source": [
    "Write a Python function to check if a given year is a leap year"
   ]
  },
  {
   "cell_type": "code",
   "execution_count": 42,
   "id": "5c885754",
   "metadata": {},
   "outputs": [],
   "source": [
    "def isLeapYear(year):\n",
    "    if year % 4 != 0:\n",
    "        return False\n",
    "    elif year % 100 != 0:\n",
    "        return True\n",
    "    elif year % 400 != 0:\n",
    "        return False\n",
    "    else:\n",
    "        return True"
   ]
  },
  {
   "cell_type": "markdown",
   "id": "50588c72",
   "metadata": {},
   "source": [
    "Write a Python program to find the most frequent element in a list"
   ]
  },
  {
   "cell_type": "code",
   "execution_count": 52,
   "id": "4e4f8a93",
   "metadata": {},
   "outputs": [],
   "source": [
    "# Help from https://www.geeksforgeeks.org/python-find-most-frequent-element-in-a-list/\n",
    "def mostFrequentItem(lst):\n",
    "    return max(set(lst), key=lst.count)"
   ]
  },
  {
   "cell_type": "code",
   "execution_count": 53,
   "id": "d543669a",
   "metadata": {},
   "outputs": [
    {
     "data": {
      "text/plain": [
       "1"
      ]
     },
     "execution_count": 53,
     "metadata": {},
     "output_type": "execute_result"
    }
   ],
   "source": [
    "mostFrequentItem([1, 2, 3, 1])"
   ]
  }
 ],
 "metadata": {
  "kernelspec": {
   "display_name": "Python 3 (ipykernel)",
   "language": "python",
   "name": "python3"
  },
  "language_info": {
   "codemirror_mode": {
    "name": "ipython",
    "version": 3
   },
   "file_extension": ".py",
   "mimetype": "text/x-python",
   "name": "python",
   "nbconvert_exporter": "python",
   "pygments_lexer": "ipython3",
   "version": "3.9.13"
  }
 },
 "nbformat": 4,
 "nbformat_minor": 5
}
